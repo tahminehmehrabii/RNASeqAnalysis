{
 "cells": [
  {
   "cell_type": "code",
   "execution_count": null,
   "metadata": {},
   "outputs": [],
   "source": [
    "# PART 1: Project Setup\n",
    "mkdir RNASeq_PROJECT                  # Create project directory\n",
    "cd RNASeq_PROJECT                     # Enter the project directory\n",
    "mkdir DATA                            # Create directory for raw data\n",
    "cd DATA                               # Navigate to DATA directory\n",
    "chmod +x DATA.sh                      # Make the data preparation script executable\n",
    "./DATA.sh                             # Download the data files\n"
   ]
  },
  {
   "cell_type": "code",
   "execution_count": null,
   "metadata": {},
   "outputs": [],
   "source": [
    "# PART 2: Install FastQC for Quality Check\n",
    "sudo apt update                       # Update package lists\n",
    "sudo apt upgrade                      # Upgrade installed packages\n",
    "sudo apt install fastqc               # Install FastQC\n",
    "mkdir -p fastqc-results               # Create directory for FastQC results\n"
   ]
  },
  {
   "cell_type": "code",
   "execution_count": null,
   "metadata": {},
   "outputs": [],
   "source": [
    "# PART 3: Run FastQC on Raw Data\n",
    "touch pscript.sh                      # Create a script for running FastQC\n",
    "chmod +x pscript.sh                   # Make the script executable\n",
    "code pscript.sh                       # Open in VS Code to write the script\n",
    "\n",
    "# CONTENTS OF pscript.sh\n",
    "#!/bin/bash\n",
    "DATA_DIR=~/RNASeq_PROJECT/DATA\n",
    "OUTPUT_DIR=~/RNASeq_PROJECT/fastqc-results\n",
    "for file in $DATA_DIR/*.fastq.gz\n",
    "do\n",
    "    echo \"Running FastQC on $file\"\n",
    "    fastqc $file -o $OUTPUT_DIR\n",
    "done\n",
    "echo \"FastQC analysis complete. Results are in the $OUTPUT_DIR directory.\"\n",
    "\n",
    "./pscript.sh                          # Run the script"
   ]
  },
  {
   "cell_type": "code",
   "execution_count": null,
   "metadata": {},
   "outputs": [],
   "source": [
    "# PART 4: Summarize FastQC Results\n",
    "cd fastqc-results                     # Navigate to FastQC results directory\n",
    "pip install multiqc                   # Install MultiQC\n",
    "multiqc .                             # Combine and summarize FastQC results\n"
   ]
  },
  {
   "cell_type": "code",
   "execution_count": null,
   "metadata": {},
   "outputs": [],
   "source": [
    "# PART 5: Mapping Reads to Reference Genome\n",
    "mkdir -p pmapping                     # Create a directory for mapping\n",
    "cd pmapping                           # Enter the mapping directory\n",
    "wget -P ~/pmapping https://genome-idx.s3.amazonaws.com/hisat/grch38_tran.tar.gz\n",
    "                                      # Download reference genome\n",
    "tar -xvf ~/RNASeq_PROJECT/pmapping/grch38_tran.tar.gz -C ~/RNASeq_PROJECT/pmapping\n",
    "                                      # Extract reference genome files\n",
    "touch mapping.sh                      # Create mapping script\n",
    "chmod +x mapping.sh                   # Make the script executable\n",
    "code mapping.sh                       # Open the script for editing\n",
    "\n",
    "# CONTENTS OF mapping.sh\n",
    "#!/bin/bash\n",
    "# Mapping Reads: SRR30861166\n",
    "hisat2 \\\n",
    "-x ~/RNASeq_PROJECT/pmapping/grch38_tran/genome_tran \\\n",
    "-1 ~/RNASeq_PROJECT/DATA/SRR30861166_1.fastq.gz \\\n",
    "-2 ~/RNASeq_PROJECT/DATA/SRR30861166_2.fastq.gz \\\n",
    "--rna-strandness RF \\\n",
    "-S ~/RNASeq_PROJECT/pmapping/SRR30861166.sam 2> SRR30861166_summary.txt\n",
    "samtools view -S -b ~/RNASeq_PROJECT/pmapping/SRR30861166.sam > ~/RNASeq_PROJECT/pmapping/SRR30861166.bam\n",
    "rm ~/RNASeq_PROJECT/pmapping/SRR30861166.sam\n",
    "\n",
    "# Mapping Reads: SRR30861167\n",
    "hisat2 \\\n",
    "-x ~/RNASeq_PROJECT/pmapping/grch38_tran/genome_tran \\\n",
    "-1 ~/RNASeq_PROJECT/DATA/SRR30861167_1.fastq.gz \\\n",
    "-2 ~/RNASeq_PROJECT/DATA/SRR30861167_2.fastq.gz \\\n",
    "--rna-strandness RF \\\n",
    "-S ~/RNASeq_PROJECT/pmapping/SRR30861167.sam 2> SRR30861167_summary.txt\n",
    "samtools view -S -b ~/RNASeq_PROJECT/pmapping/SRR30861167.sam > ~/RNASeq_PROJECT/pmapping/SRR30861167.bam\n",
    "rm ~/RNASeq_PROJECT/pmapping/SRR30861167.sam\n",
    "\n",
    "\n",
    "# Mapping Reads: SRR30861168\n",
    "hisat2 \\\n",
    "-x ~/RNASeq_PROJECT/pmapping/grch38_tran/genome_tran \\\n",
    "-1 ~/RNASeq_PROJECT/DATA/SRR30861168_1.fastq.gz \\\n",
    "-2 ~/RNASeq_PROJECT/DATA/SRR30861168_2.fastq.gz \\\n",
    "--rna-strandness RF \\\n",
    "-S ~/RNASeq_PROJECT/pmapping/SRR30861168.sam 2> SRR30861168_summary.txt\n",
    "samtools view -S -b ~/RNASeq_PROJECT/pmapping/SRR30861168.sam > ~/RNASeq_PROJECT/pmapping/SRR30861168.bam\n",
    "rm ~/RNASeq_PROJECT/pmapping/SRR30861168.sam\n",
    "\n",
    "\n",
    "# Mapping Reads: SRR30861170\n",
    "hisat2 \\\n",
    "-x ~/RNASeq_PROJECT/pmapping/grch38_tran/genome_tran \\\n",
    "-1 ~/RNASeq_PROJECT/DATA/SRR30861170_1.fastq.gz \\\n",
    "-2 ~/RNASeq_PROJECT/DATA/SRR30861170_2.fastq.gz \\\n",
    "--rna-strandness RF \\\n",
    "-S ~/RNASeq_PROJECT/pmapping/SRR30861170.sam 2> SRR30861170_summary.txt\n",
    "samtools view -S -b ~/RNASeq_PROJECT/pmapping/SRR30861170.sam > ~/RNASeq_PROJECT/pmapping/SRR30861170.bam\n",
    "rm ~/RNASeq_PROJECT/pmapping/SRR30861170.sam\n",
    "\n",
    "\n",
    "\n",
    "# Mapping Reads: SRR30861171\n",
    "hisat2 \\\n",
    "-x ~/RNASeq_PROJECT/pmapping/grch38_tran/genome_tran \\\n",
    "-1 ~/RNASeq_PROJECT/DATA/SRR30861171_1.fastq.gz \\\n",
    "-2 ~/RNASeq_PROJECT/DATA/SRR30861171_2.fastq.gz \\\n",
    "--rna-strandness RF \\\n",
    "-S ~/RNASeq_PROJECT/pmapping/SRR30861171.sam 2> SRR30861171_summary.txt\n",
    "samtools view -S -b ~/RNASeq_PROJECT/pmapping/SRR30861171.sam > ~/RNASeq_PROJECT/pmapping/SRR30861171.bam\n",
    "rm ~/RNASeq_PROJECT/pmapping/SRR30861171.sam\n",
    "\n",
    "\n",
    "# Mapping Reads: SRR30861169\n",
    "hisat2 \\\n",
    "-x ~/RNASeq_PROJECT/pmapping/grch38_tran/genome_tran \\\n",
    "-1 ~/RNASeq_PROJECT/DATA/SRR30861169_1.fastq.gz \\\n",
    "-2 ~/RNASeq_PROJECT/DATA/SRR30861169_2.fastq.gz \\\n",
    "--rna-strandness RF \\\n",
    "-S ~/RNASeq_PROJECT/pmapping/SRR30861169.sam 2> SRR30861169_summary.txt\n",
    "samtools view -S -b ~/RNASeq_PROJECT/pmapping/SRR30861169.sam > ~/RNASeq_PROJECT/pmapping/SRR30861169.bam\n",
    "rm ~/RNASeq_PROJECT/pmapping/SRR30861169.sam\n",
    "\n"
   ]
  },
  {
   "cell_type": "code",
   "execution_count": null,
   "metadata": {},
   "outputs": [],
   "source": [
    "# PART 6: Analyze Mapping Quality\n",
    "cd pmapping                           # Enter pmapping directory\n",
    "multiqc *.txt                         # Combine and analyze mapping results"
   ]
  },
  {
   "cell_type": "code",
   "execution_count": null,
   "metadata": {},
   "outputs": [],
   "source": [
    "# PART 7: Download Annotation File\n",
    "mkdir counts                          # Create a directory for counts\n",
    "cd counts                             # Navigate to the counts directory\n",
    "wget https://ftp.ensembl.org/pub/release-113/gtf/homo_sapiens/Homo_sapiens.GRCh38.113.gtf.gz\n",
    "                                      # Download GTF annotation file"
   ]
  },
  {
   "cell_type": "code",
   "execution_count": null,
   "metadata": {},
   "outputs": [],
   "source": [
    "# PART 8: Run FeatureCounts\n",
    "touch fcount.sh                       # Create feature counts script\n",
    "chmod +x fcount.sh                    # Make the script executable\n",
    "code fcount.sh                        # Open the script for editing\n",
    "\n",
    "# CONTENTS OF fcount.sh\n",
    "#!/bin/bash\n",
    "featureCounts -T 4 -s 2 -p --countReadPairs \\\n",
    "-a ~/RNASeq_PROJECT/counts/Homo_sapiens.GRCh38.113.gtf.gz \\\n",
    "-t exon -g gene_id \\\n",
    "-o ~/RNASeq_PROJECT/counts/counts.txt \\\n",
    "~/RNASeq_PROJECT/pmapping/SRR30861169.bam \\\n",
    "~/RNASeq_PROJECT/pmapping/SRR30861170.bam \\\n",
    "~/RNASeq_PROJECT/pmapping/SRR30861171.bam \\\n",
    "~/RNASeq_PROJECT/pmapping/SRR30861166.bam \\\n",
    "~/RNASeq_PROJECT/pmapping/SRR30861167.bam \\\n",
    "~/RNASeq_PROJECT/pmapping/SRR30861168.bam\n",
    "\n",
    "grep -v \"^#\" counts.txt > counts_no_header.txt\n",
    "cut -f 1,7-12 counts_no_header.txt > counts_filtered.txt"
   ]
  }
 ],
 "metadata": {
  "colab": {
   "include_colab_link": true,
   "provenance": []
  },
  "kernelspec": {
   "display_name": "Python 3",
   "name": "python3"
  },
  "language_info": {
   "codemirror_mode": {
    "name": "ipython",
    "version": 3
   },
   "file_extension": ".py",
   "mimetype": "text/x-python",
   "name": "python",
   "nbconvert_exporter": "python",
   "pygments_lexer": "ipython3",
   "version": "3.11.0"
  }
 },
 "nbformat": 4,
 "nbformat_minor": 0
}
