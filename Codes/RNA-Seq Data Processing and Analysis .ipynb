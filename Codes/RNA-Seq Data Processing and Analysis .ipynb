{
 "cells": [
  {
   "cell_type": "code",
   "execution_count": null,
   "metadata": {},
   "outputs": [],
   "source": [
    "# PART 1: Project Setup\n",
    "mkdir RNASeq_PROJECT                  # Create project directory\n",
    "cd RNASeq_PROJECT                     # Enter the project directory\n",
    "mkdir DATA                            # Create directory for raw data\n",
    "cd DATA                               # Navigate to DATA directory\n",
    "ls                                    # Check the contents of the directory\n",
    "chmod +x DATA.sh                      # Make the data preparation script executable\n",
    "./DATA.sh                             # Run the data preparation script\n",
    "ls                                    # Verify files are present after running the script\n"
   ]
  },
  {
   "cell_type": "code",
   "execution_count": null,
   "metadata": {},
   "outputs": [],
   "source": [
    "# PART 2: Install FastQC for Quality Check\n",
    "sudo apt update                       # Update package lists\n",
    "sudo apt upgrade                      # Upgrade installed packages\n",
    "sudo apt install fastqc               # Install FastQC\n",
    "mkdir -p fastqc-results               # Create directory for FastQC results\n",
    "ls                                    # Verify folder creation\n"
   ]
  },
  {
   "cell_type": "code",
   "execution_count": null,
   "metadata": {},
   "outputs": [],
   "source": [
    "# PART 3: Run FastQC on Raw Data\n",
    "touch pscript.sh                      # Create a script for running FastQC\n",
    "chmod +x pscript.sh                   # Make the script executable\n",
    "code pscript.sh                       # Open the script for editing\n",
    "\n",
    "# CONTENTS OF pscript.sh\n",
    "#!/bin/bash\n",
    "DATA_DIR=~/RNASeq_PROJECT/DATA\n",
    "OUTPUT_DIR=~/RNASeq_PROJECT/fastqc-results\n",
    "for file in $DATA_DIR/*.fastq.gz\n",
    "do\n",
    "    echo \"Running FastQC on $file\"\n",
    "    fastqc $file -o $OUTPUT_DIR\n",
    "done\n",
    "echo \"FastQC analysis complete. Results are in the $OUTPUT_DIR directory.\"\n",
    "\n",
    "./pscript.sh                          # Run the script"
   ]
  },
  {
   "cell_type": "code",
   "execution_count": null,
   "metadata": {},
   "outputs": [],
   "source": [
    "# PART 4: Summarize FastQC Results\n",
    "cd fastqc-results                     # Navigate to FastQC results directory\n",
    "pip install multiqc                   # Install MultiQC\n",
    "multiqc .                             # Combine and summarize FastQC results\n"
   ]
  },
  {
   "cell_type": "code",
   "execution_count": null,
   "metadata": {},
   "outputs": [],
   "source": [
    "# PART 5: Mapping Reads to Reference Genome\n",
    "cd ..                                 # Return to the main directory\n",
    "mkdir -p pmapping                     # Create a directory for mapping\n",
    "cd pmapping                           # Enter the mapping directory\n",
    "wget -P ~/pmapping https://genome-idx.s3.amazonaws.com/hisat/grch38_tran.tar.gz\n",
    "                                      # Download reference genome\n",
    "tar -xvf ~/RNASeq_PROJECT/pmapping/grch38_tran.tar.gz -C ~/RNASeq_PROJECT/pmapping\n",
    "                                      # Extract reference genome files\n",
    "touch mapping.sh                      # Create mapping script\n",
    "chmod +x mapping.sh                   # Make the script executable\n",
    "code mapping.sh                       # Open the script for editing\n",
    "\n",
    "# CONTENTS OF mapping.sh\n",
    "#!/bin/bash\n",
    "samples=(\"SRR30861166\" \"SRR30861167\" \"SRR30861168\" \"SRR30861169\" \"SRR30861170\" \"SRR30861171\")\n",
    "for sample in \"${samples[@]}\"; do\n",
    "    hisat2 -x ~/RNASeq_PROJECT/pmapping/grch38_tran/genome_tran \\\n",
    "    -1 ~/RNASeq_PROJECT/DATA/${sample}_1.fastq.gz \\\n",
    "    -2 ~/RNASeq_PROJECT/DATA/${sample}_2.fastq.gz \\\n",
    "    --rna-strandness RF \\\n",
    "    -S ~/RNASeq_PROJECT/pmapping/${sample}.sam 2> ${sample}_summary.txt\n",
    "    samtools view -S -b ~/RNASeq_PROJECT/pmapping/${sample}.sam > ~/RNASeq_PROJECT/pmapping/${sample}.bam\n",
    "    rm ~/RNASeq_PROJECT/pmapping/${sample}.sam\n",
    "done\n",
    "\n",
    "./mapping.sh                          # Run the mapping script\n"
   ]
  },
  {
   "cell_type": "code",
   "execution_count": null,
   "metadata": {},
   "outputs": [],
   "source": [
    "# PART 6: Analyze Mapping Quality\n",
    "cd pmapping                           # Enter pmapping directory\n",
    "multiqc *.txt                         # Combine and analyze mapping results\n",
    "mkdir counts                          # Create a directory for counts\n",
    "cd counts                             # Navigate to the counts directory"
   ]
  },
  {
   "cell_type": "code",
   "execution_count": null,
   "metadata": {},
   "outputs": [],
   "source": [
    "# PART 7: Download Annotation File\n",
    "wget https://ftp.ensembl.org/pub/release-113/gtf/homo_sapiens/Homo_sapiens.GRCh38.113.gtf.gz\n",
    "                                      # Download GTF annotation file"
   ]
  },
  {
   "cell_type": "code",
   "execution_count": null,
   "metadata": {},
   "outputs": [],
   "source": [
    "# PART 8: Run FeatureCounts\n",
    "touch fcount.sh                       # Create feature counts script\n",
    "chmod +x fcount.sh                    # Make the script executable\n",
    "code fcount.sh                        # Open the script for editing\n",
    "\n",
    "# CONTENTS OF fcount.sh\n",
    "#!/bin/bash\n",
    "GTF_FILE=~/RNASeq_PROJECT/counts/Homo_sapiens.GRCh38.113.gtf.gz\n",
    "BAM_DIR=~/RNASeq_PROJECT/pmapping\n",
    "OUTPUT_FILE=~/RNASeq_PROJECT/counts/counts.txt\n",
    "\n",
    "bam_files=()\n",
    "for file in $BAM_DIR/*.bam; do\n",
    "    bam_files+=(\"$file\")\n",
    "done\n",
    "\n",
    "featureCounts -T 4 -s 2 -p --countReadPairs \\\n",
    "-a $GTF_FILE -t exon -g gene_id \\\n",
    "-o $OUTPUT_FILE \"${bam_files[@]}\"\n",
    "\n",
    "grep -v \"^#\" $OUTPUT_FILE > counts_no_header.txt\n",
    "cut -f 1,7-12 counts_no_header.txt > counts_filtered.txt\n",
    "\n",
    "./fcount.sh                           # Run the FeatureCounts script"
   ]
  }
 ],
 "metadata": {
  "colab": {
   "include_colab_link": true,
   "provenance": []
  },
  "kernelspec": {
   "display_name": "Python 3",
   "name": "python3"
  },
  "language_info": {
   "codemirror_mode": {
    "name": "ipython",
    "version": 3
   },
   "file_extension": ".py",
   "mimetype": "text/x-python",
   "name": "python",
   "nbconvert_exporter": "python",
   "pygments_lexer": "ipython3",
   "version": "3.11.0"
  }
 },
 "nbformat": 4,
 "nbformat_minor": 0
}
